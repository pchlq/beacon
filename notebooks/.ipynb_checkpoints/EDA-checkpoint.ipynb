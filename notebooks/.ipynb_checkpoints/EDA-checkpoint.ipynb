{
 "cells": [
  {
   "cell_type": "code",
   "execution_count": 1,
   "metadata": {},
   "outputs": [
    {
     "name": "stdout",
     "output_type": "stream",
     "text": [
      "Python 3.7.4\n"
     ]
    }
   ],
   "source": [
    "!python -V"
   ]
  },
  {
   "cell_type": "code",
   "execution_count": 2,
   "metadata": {},
   "outputs": [],
   "source": [
    "import pandas as pd\n",
    "import numpy as np\n",
    "# from tqdm import tnrange\n",
    "from tqdm import tqdm\n",
    "import matplotlib.pyplot as plt\n",
    "%matplotlib inline"
   ]
  },
  {
   "cell_type": "code",
   "execution_count": 3,
   "metadata": {},
   "outputs": [],
   "source": [
    "conv = lambda x: np.float((x.replace(\",\", \".\")))\n",
    "df = pd.read_csv(\"../input/simdata987.csv\", sep=';')\n",
    "float_cols = df.select_dtypes(\"object\").columns\n",
    "df.loc[:, float_cols] = df[float_cols].applymap(conv)\n",
    "\n",
    "sig_coord = [\"Signal_X\", \"Signal_Y\", \"Signal_Z\"]\n",
    "pos_coord = [\"Position_X\", \"Position_Y\", \"Position_Z\"]"
   ]
  },
  {
   "cell_type": "code",
   "execution_count": 4,
   "metadata": {},
   "outputs": [
    {
     "data": {
      "text/html": [
       "<div>\n",
       "<style scoped>\n",
       "    .dataframe tbody tr th:only-of-type {\n",
       "        vertical-align: middle;\n",
       "    }\n",
       "\n",
       "    .dataframe tbody tr th {\n",
       "        vertical-align: top;\n",
       "    }\n",
       "\n",
       "    .dataframe thead th {\n",
       "        text-align: right;\n",
       "    }\n",
       "</style>\n",
       "<table border=\"1\" class=\"dataframe\">\n",
       "  <thead>\n",
       "    <tr style=\"text-align: right;\">\n",
       "      <th></th>\n",
       "      <th>Milliseconds</th>\n",
       "      <th>Rssi</th>\n",
       "      <th>Signal_X</th>\n",
       "      <th>Signal_Y</th>\n",
       "      <th>Signal_Z</th>\n",
       "      <th>Position_X</th>\n",
       "      <th>Position_Y</th>\n",
       "      <th>Position_Z</th>\n",
       "    </tr>\n",
       "  </thead>\n",
       "  <tbody>\n",
       "    <tr>\n",
       "      <th>4244</th>\n",
       "      <td>30650</td>\n",
       "      <td>-58</td>\n",
       "      <td>28.8</td>\n",
       "      <td>-3.7</td>\n",
       "      <td>1.7</td>\n",
       "      <td>29.6</td>\n",
       "      <td>0.0</td>\n",
       "      <td>1.5</td>\n",
       "    </tr>\n",
       "    <tr>\n",
       "      <th>8128</th>\n",
       "      <td>67600</td>\n",
       "      <td>-96</td>\n",
       "      <td>23.5</td>\n",
       "      <td>19.6</td>\n",
       "      <td>1.7</td>\n",
       "      <td>39.8</td>\n",
       "      <td>23.0</td>\n",
       "      <td>1.5</td>\n",
       "    </tr>\n",
       "    <tr>\n",
       "      <th>4723</th>\n",
       "      <td>34050</td>\n",
       "      <td>-96</td>\n",
       "      <td>33.5</td>\n",
       "      <td>-15.8</td>\n",
       "      <td>5.1</td>\n",
       "      <td>33.0</td>\n",
       "      <td>0.0</td>\n",
       "      <td>1.5</td>\n",
       "    </tr>\n",
       "    <tr>\n",
       "      <th>2909</th>\n",
       "      <td>21050</td>\n",
       "      <td>-89</td>\n",
       "      <td>19.2</td>\n",
       "      <td>-11.8</td>\n",
       "      <td>4.2</td>\n",
       "      <td>20.0</td>\n",
       "      <td>0.0</td>\n",
       "      <td>1.5</td>\n",
       "    </tr>\n",
       "    <tr>\n",
       "      <th>13249</th>\n",
       "      <td>152900</td>\n",
       "      <td>-58</td>\n",
       "      <td>-37.4</td>\n",
       "      <td>9.6</td>\n",
       "      <td>5.1</td>\n",
       "      <td>-38.3</td>\n",
       "      <td>10.9</td>\n",
       "      <td>1.5</td>\n",
       "    </tr>\n",
       "  </tbody>\n",
       "</table>\n",
       "</div>"
      ],
      "text/plain": [
       "       Milliseconds  Rssi  Signal_X  Signal_Y  Signal_Z  Position_X  \\\n",
       "4244          30650   -58      28.8      -3.7       1.7        29.6   \n",
       "8128          67600   -96      23.5      19.6       1.7        39.8   \n",
       "4723          34050   -96      33.5     -15.8       5.1        33.0   \n",
       "2909          21050   -89      19.2     -11.8       4.2        20.0   \n",
       "13249        152900   -58     -37.4       9.6       5.1       -38.3   \n",
       "\n",
       "       Position_Y  Position_Z  \n",
       "4244          0.0         1.5  \n",
       "8128         23.0         1.5  \n",
       "4723          0.0         1.5  \n",
       "2909          0.0         1.5  \n",
       "13249        10.9         1.5  "
      ]
     },
     "execution_count": 4,
     "metadata": {},
     "output_type": "execute_result"
    }
   ],
   "source": [
    "df.sample(5)"
   ]
  },
  {
   "cell_type": "code",
   "execution_count": 5,
   "metadata": {},
   "outputs": [
    {
     "data": {
      "text/plain": [
       "3466"
      ]
     },
     "execution_count": 5,
     "metadata": {},
     "output_type": "execute_result"
    }
   ],
   "source": [
    "df.Milliseconds.nunique()"
   ]
  },
  {
   "cell_type": "code",
   "execution_count": 6,
   "metadata": {},
   "outputs": [
    {
     "name": "stdout",
     "output_type": "stream",
     "text": [
      "Number of unique beacons:  215\n"
     ]
    },
    {
     "data": {
      "text/html": [
       "<div>\n",
       "<style scoped>\n",
       "    .dataframe tbody tr th:only-of-type {\n",
       "        vertical-align: middle;\n",
       "    }\n",
       "\n",
       "    .dataframe tbody tr th {\n",
       "        vertical-align: top;\n",
       "    }\n",
       "\n",
       "    .dataframe thead th {\n",
       "        text-align: right;\n",
       "    }\n",
       "</style>\n",
       "<table border=\"1\" class=\"dataframe\">\n",
       "  <thead>\n",
       "    <tr style=\"text-align: right;\">\n",
       "      <th></th>\n",
       "      <th>Signal_X</th>\n",
       "      <th>Signal_Y</th>\n",
       "      <th>Signal_Z</th>\n",
       "      <th>bc_name</th>\n",
       "    </tr>\n",
       "  </thead>\n",
       "  <tbody>\n",
       "    <tr>\n",
       "      <th>0</th>\n",
       "      <td>-54.7</td>\n",
       "      <td>10.2</td>\n",
       "      <td>2.1</td>\n",
       "      <td>bc_0</td>\n",
       "    </tr>\n",
       "    <tr>\n",
       "      <th>1</th>\n",
       "      <td>-54.7</td>\n",
       "      <td>14.3</td>\n",
       "      <td>2.1</td>\n",
       "      <td>bc_1</td>\n",
       "    </tr>\n",
       "    <tr>\n",
       "      <th>2</th>\n",
       "      <td>-54.7</td>\n",
       "      <td>19.7</td>\n",
       "      <td>1.7</td>\n",
       "      <td>bc_2</td>\n",
       "    </tr>\n",
       "  </tbody>\n",
       "</table>\n",
       "</div>"
      ],
      "text/plain": [
       "   Signal_X  Signal_Y  Signal_Z bc_name\n",
       "0     -54.7      10.2       2.1    bc_0\n",
       "1     -54.7      14.3       2.1    bc_1\n",
       "2     -54.7      19.7       1.7    bc_2"
      ]
     },
     "execution_count": 6,
     "metadata": {},
     "output_type": "execute_result"
    }
   ],
   "source": [
    "# table of beacons\n",
    "bc_df = df.groupby(sig_coord).size().to_frame().reset_index()[sig_coord]\n",
    "bc_df[\"bc_name\"] = [f\"bc_{i}\" for i in range(len(bc_df))]\n",
    "# bc_df.set_index(\"bc_name\", inplace=True)\n",
    "print(\"Number of unique beacons: \", len(bc_df))\n",
    "bc_df.head(3)"
   ]
  },
  {
   "cell_type": "code",
   "execution_count": 7,
   "metadata": {},
   "outputs": [
    {
     "data": {
      "text/html": [
       "<div>\n",
       "<style scoped>\n",
       "    .dataframe tbody tr th:only-of-type {\n",
       "        vertical-align: middle;\n",
       "    }\n",
       "\n",
       "    .dataframe tbody tr th {\n",
       "        vertical-align: top;\n",
       "    }\n",
       "\n",
       "    .dataframe thead th {\n",
       "        text-align: right;\n",
       "    }\n",
       "</style>\n",
       "<table border=\"1\" class=\"dataframe\">\n",
       "  <thead>\n",
       "    <tr style=\"text-align: right;\">\n",
       "      <th></th>\n",
       "      <th>Milliseconds</th>\n",
       "      <th>Rssi</th>\n",
       "      <th>Signal_X</th>\n",
       "      <th>Signal_Y</th>\n",
       "      <th>Signal_Z</th>\n",
       "      <th>Position_X</th>\n",
       "      <th>Position_Y</th>\n",
       "      <th>Position_Z</th>\n",
       "      <th>bc_name</th>\n",
       "    </tr>\n",
       "  </thead>\n",
       "  <tbody>\n",
       "    <tr>\n",
       "      <th>0</th>\n",
       "      <td>0</td>\n",
       "      <td>-97</td>\n",
       "      <td>-0.1</td>\n",
       "      <td>-16.4</td>\n",
       "      <td>1.7</td>\n",
       "      <td>0.0</td>\n",
       "      <td>0.0</td>\n",
       "      <td>1.5</td>\n",
       "      <td>bc_106</td>\n",
       "    </tr>\n",
       "    <tr>\n",
       "      <th>1</th>\n",
       "      <td>0</td>\n",
       "      <td>-98</td>\n",
       "      <td>-7.3</td>\n",
       "      <td>-17.3</td>\n",
       "      <td>1.8</td>\n",
       "      <td>0.0</td>\n",
       "      <td>0.0</td>\n",
       "      <td>1.5</td>\n",
       "      <td>bc_90</td>\n",
       "    </tr>\n",
       "    <tr>\n",
       "      <th>2</th>\n",
       "      <td>0</td>\n",
       "      <td>-96</td>\n",
       "      <td>-11.3</td>\n",
       "      <td>-11.3</td>\n",
       "      <td>1.7</td>\n",
       "      <td>0.0</td>\n",
       "      <td>0.0</td>\n",
       "      <td>1.5</td>\n",
       "      <td>bc_83</td>\n",
       "    </tr>\n",
       "    <tr>\n",
       "      <th>3</th>\n",
       "      <td>0</td>\n",
       "      <td>-90</td>\n",
       "      <td>3.4</td>\n",
       "      <td>-11.9</td>\n",
       "      <td>5.1</td>\n",
       "      <td>0.0</td>\n",
       "      <td>0.0</td>\n",
       "      <td>1.5</td>\n",
       "      <td>bc_117</td>\n",
       "    </tr>\n",
       "    <tr>\n",
       "      <th>4</th>\n",
       "      <td>0</td>\n",
       "      <td>-79</td>\n",
       "      <td>7.7</td>\n",
       "      <td>-4.3</td>\n",
       "      <td>4.0</td>\n",
       "      <td>0.0</td>\n",
       "      <td>0.0</td>\n",
       "      <td>1.5</td>\n",
       "      <td>bc_133</td>\n",
       "    </tr>\n",
       "  </tbody>\n",
       "</table>\n",
       "</div>"
      ],
      "text/plain": [
       "   Milliseconds  Rssi  Signal_X  Signal_Y  Signal_Z  Position_X  Position_Y  \\\n",
       "0             0   -97      -0.1     -16.4       1.7         0.0         0.0   \n",
       "1             0   -98      -7.3     -17.3       1.8         0.0         0.0   \n",
       "2             0   -96     -11.3     -11.3       1.7         0.0         0.0   \n",
       "3             0   -90       3.4     -11.9       5.1         0.0         0.0   \n",
       "4             0   -79       7.7      -4.3       4.0         0.0         0.0   \n",
       "\n",
       "   Position_Z bc_name  \n",
       "0         1.5  bc_106  \n",
       "1         1.5   bc_90  \n",
       "2         1.5   bc_83  \n",
       "3         1.5  bc_117  \n",
       "4         1.5  bc_133  "
      ]
     },
     "execution_count": 7,
     "metadata": {},
     "output_type": "execute_result"
    }
   ],
   "source": [
    "# concatinate \"df\" with \"bc_df\" by \"sig_coord\"\n",
    "df = df.merge(bc_df, how=\"left\", on=sig_coord)\n",
    "df.head()"
   ]
  },
  {
   "cell_type": "code",
   "execution_count": 8,
   "metadata": {},
   "outputs": [],
   "source": [
    "# check if unique beacons doubled while certain part of time\n",
    "assert np.any(df.groupby([\"Milliseconds\", \"bc_name\"]).size()>1) == False, \"Some beacons are not unique\""
   ]
  },
  {
   "cell_type": "code",
   "execution_count": 9,
   "metadata": {},
   "outputs": [
    {
     "data": {
      "image/png": "[encoded data removed]",
      "text/plain": [
       "<Figure size 432x288 with 1 Axes>"
      ]
     },
     "metadata": {
      "needs_background": "light"
     },
     "output_type": "display_data"
    }
   ],
   "source": [
    "df.bc_name.value_counts().hist(bins=50);"
   ]
  },
  {
   "cell_type": "code",
   "execution_count": 10,
   "metadata": {},
   "outputs": [
    {
     "data": {
      "text/plain": [
       "1"
      ]
     },
     "execution_count": 10,
     "metadata": {},
     "output_type": "execute_result"
    }
   ],
   "source": [
    "df.bc_name.value_counts().min()"
   ]
  },
  {
   "cell_type": "code",
   "execution_count": 11,
   "metadata": {},
   "outputs": [
    {
     "data": {
      "text/plain": [
       "(3466, 4)"
      ]
     },
     "execution_count": 11,
     "metadata": {},
     "output_type": "execute_result"
    }
   ],
   "source": [
    "df_droped_dupl = df[[\"Milliseconds\"]+pos_coord].drop_duplicates(subset=[\"Milliseconds\"]).reset_index(drop=True)\n",
    "df_droped_dupl.shape"
   ]
  },
  {
   "cell_type": "code",
   "execution_count": 12,
   "metadata": {},
   "outputs": [
    {
     "name": "stderr",
     "output_type": "stream",
     "text": [
      "100%|██████████| 3466/3466 [00:20<00:00, 170.74it/s]"
     ]
    },
    {
     "name": "stdout",
     "output_type": "stream",
     "text": [
      "(3466, 215, 4)\n"
     ]
    },
    {
     "name": "stderr",
     "output_type": "stream",
     "text": [
      "\n"
     ]
    }
   ],
   "source": [
    "# shape: cnt_milliseconds x cnt_beacons x len[X, Y, Z, rssi] == (3466, 215, 4)\n",
    "X_array=np.zeros( (len(df_droped_dupl), len(bc_df), len(sig_coord + [\"Rssi\"])) )\n",
    "\n",
    "for idx, mls in enumerate( tqdm(df_droped_dupl.Milliseconds, total=len(df_droped_dupl)) ):\n",
    "    res = bc_df.merge( df[df.Milliseconds==mls], on=sig_coord, how='left' ).reset_index().fillna(-110)\n",
    "    X_array[idx] = res[sig_coord + [\"Rssi\"]].values.astype(np.float32)\n",
    "\n",
    "print(X_array.shape)"
   ]
  },
  {
   "cell_type": "code",
   "execution_count": 13,
   "metadata": {},
   "outputs": [
    {
     "data": {
      "text/plain": [
       "(3466, 3)"
      ]
     },
     "execution_count": 13,
     "metadata": {},
     "output_type": "execute_result"
    }
   ],
   "source": [
    "Y_array = df_droped_dupl[pos_coord].values\n",
    "Y_array.shape"
   ]
  }
 ],
 "metadata": {
  "kernelspec": {
   "display_name": "Python 3",
   "language": "python",
   "name": "python3"
  },
  "language_info": {
   "codemirror_mode": {
    "name": "ipython",
    "version": 3
   },
   "file_extension": ".py",
   "mimetype": "text/x-python",
   "name": "python",
   "nbconvert_exporter": "python",
   "pygments_lexer": "ipython3",
   "version": "3.7.4"
  }
 },
 "nbformat": 4,
 "nbformat_minor": 4
}
